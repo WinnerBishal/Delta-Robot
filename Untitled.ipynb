{
 "cells": [
  {
   "cell_type": "code",
   "execution_count": 1,
   "metadata": {},
   "outputs": [],
   "source": [
    "from sympy import symbols, Eq, solve\n",
    "\n",
    "def circle_intersection(a1, b1, r1, a2, b2, r2):\n",
    "    # define symbolic variables\n",
    "    x, y = symbols('x y')\n",
    "\n",
    "    # create two equations representing the circles\n",
    "    circle1 = Eq((x-a1)**2 + (y-b1)**2, r1**2)\n",
    "    circle2 = Eq((x-a2)**2 + (y-b2)**2, r2**2)\n",
    "\n",
    "    # solve the system of equations\n",
    "    intersection_points = solve((circle1, circle2), (x, y))\n",
    "\n",
    "    return intersection_points"
   ]
  },
  {
   "cell_type": "code",
   "execution_count": 3,
   "id": "414c8926",
   "metadata": {},
   "outputs": [
    {
     "data": {
      "text/plain": [
       "[(6/5 - 4*sqrt(11)/5, 2*sqrt(11)/5 + 12/5),\n",
       " (6/5 + 4*sqrt(11)/5, 12/5 - 2*sqrt(11)/5)]"
      ]
     },
     "execution_count": 3,
     "metadata": {},
     "output_type": "execute_result"
    }
   ],
   "source": [
    "a1, b1, r1, a2, b2, r2 = symbols('a1, ')\n",
    "circle_intersection(0, 0, 4, 3, 6, 5)"
   ]
  },
  {
   "cell_type": "code",
   "execution_count": null,
   "id": "030f5cdd",
   "metadata": {},
   "outputs": [],
   "source": []
  }
 ],
 "metadata": {
  "kernelspec": {
   "display_name": "Python 3 (ipykernel)",
   "language": "python",
   "name": "python3"
  },
  "language_info": {
   "codemirror_mode": {
    "name": "ipython",
    "version": 3
   },
   "file_extension": ".py",
   "mimetype": "text/x-python",
   "name": "python",
   "nbconvert_exporter": "python",
   "pygments_lexer": "ipython3",
   "version": "3.10.4"
  }
 },
 "nbformat": 4,
 "nbformat_minor": 5
}
