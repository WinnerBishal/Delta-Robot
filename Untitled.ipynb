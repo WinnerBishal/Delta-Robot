{
 "cells": [
  {
   "cell_type": "code",
   "execution_count": 4,
   "id": "21341279-9def-40dc-90dd-6f890f11f25f",
   "metadata": {
    "tags": []
   },
   "outputs": [
    {
     "name": "stdout",
     "output_type": "stream",
     "text": [
      "Collecting streamlit\n",
      "  Using cached streamlit-1.24.1-py2.py3-none-any.whl (8.9 MB)\n",
      "Requirement already satisfied: python-dateutil<3,>=2 in c:\\users\\winner brixman\\appdata\\local\\programs\\python\\python310\\lib\\site-packages (from streamlit) (2.8.2)\n",
      "Requirement already satisfied: numpy<2,>=1 in c:\\users\\winner brixman\\appdata\\local\\programs\\python\\python310\\lib\\site-packages (from streamlit) (1.23.5)\n",
      "Requirement already satisfied: packaging<24,>=14.1 in c:\\users\\winner brixman\\appdata\\local\\programs\\python\\python310\\lib\\site-packages (from streamlit) (22.0)\n",
      "Collecting pyarrow>=4.0\n",
      "  Using cached pyarrow-12.0.1-cp310-cp310-win_amd64.whl (21.5 MB)\n",
      "Collecting validators<1,>=0.2\n",
      "  Using cached validators-0.20.0-py3-none-any.whl\n",
      "Collecting altair<6,>=4.0\n",
      "  Using cached altair-5.0.1-py3-none-any.whl (471 kB)\n",
      "Collecting tzlocal<5,>=1.1\n",
      "  Using cached tzlocal-4.3.1-py3-none-any.whl (20 kB)\n",
      "Collecting blinker<2,>=1.0.0\n",
      "  Using cached blinker-1.6.2-py3-none-any.whl (13 kB)\n",
      "Requirement already satisfied: pillow<10,>=6.2.0 in c:\\users\\winner brixman\\appdata\\local\\programs\\python\\python310\\lib\\site-packages (from streamlit) (9.4.0)\n",
      "Collecting rich<14,>=10.11.0\n",
      "  Using cached rich-13.4.2-py3-none-any.whl (239 kB)\n",
      "Collecting pympler<2,>=0.9\n",
      "  Using cached Pympler-1.0.1-py3-none-any.whl (164 kB)\n",
      "Collecting watchdog\n",
      "  Using cached watchdog-3.0.0-py3-none-win_amd64.whl (82 kB)\n",
      "Requirement already satisfied: protobuf<5,>=3.20 in c:\\users\\winner brixman\\appdata\\local\\programs\\python\\python310\\lib\\site-packages (from streamlit) (3.20.3)\n",
      "Requirement already satisfied: typing-extensions<5,>=4.0.1 in c:\\users\\winner brixman\\appdata\\local\\programs\\python\\python310\\lib\\site-packages (from streamlit) (4.6.3)\n",
      "Requirement already satisfied: cachetools<6,>=4.0 in c:\\users\\winner brixman\\appdata\\local\\programs\\python\\python310\\lib\\site-packages (from streamlit) (5.3.1)\n",
      "Requirement already satisfied: tornado<7,>=6.0.3 in c:\\users\\winner brixman\\appdata\\local\\programs\\python\\python310\\lib\\site-packages (from streamlit) (6.2)\n",
      "Requirement already satisfied: tenacity<9,>=8.0.0 in c:\\users\\winner brixman\\appdata\\local\\programs\\python\\python310\\lib\\site-packages (from streamlit) (8.2.2)\n",
      "Requirement already satisfied: pandas<3,>=0.25 in c:\\users\\winner brixman\\appdata\\local\\programs\\python\\python310\\lib\\site-packages (from streamlit) (1.5.3)\n",
      "Collecting pydeck<1,>=0.1.dev5\n",
      "  Using cached pydeck-0.8.1b0-py2.py3-none-any.whl (4.8 MB)\n",
      "Requirement already satisfied: importlib-metadata<7,>=1.4 in c:\\users\\winner brixman\\appdata\\local\\programs\\python\\python310\\lib\\site-packages (from streamlit) (6.7.0)\n",
      "Collecting toml<2\n",
      "  Using cached toml-0.10.2-py2.py3-none-any.whl (16 kB)\n",
      "Requirement already satisfied: click<9,>=7.0 in c:\\users\\winner brixman\\appdata\\local\\programs\\python\\python310\\lib\\site-packages (from streamlit) (8.1.3)\n",
      "Collecting gitpython!=3.1.19,<4,>=3\n",
      "  Using cached GitPython-3.1.32-py3-none-any.whl (188 kB)\n",
      "Requirement already satisfied: requests<3,>=2.4 in c:\\users\\winner brixman\\appdata\\local\\programs\\python\\python310\\lib\\site-packages (from streamlit) (2.28.2)\n",
      "Requirement already satisfied: jsonschema>=3.0 in c:\\users\\winner brixman\\appdata\\local\\programs\\python\\python310\\lib\\site-packages (from altair<6,>=4.0->streamlit) (4.17.3)\n",
      "Requirement already satisfied: jinja2 in c:\\users\\winner brixman\\appdata\\local\\programs\\python\\python310\\lib\\site-packages (from altair<6,>=4.0->streamlit) (3.1.2)\n",
      "Collecting toolz\n",
      "  Using cached toolz-0.12.0-py3-none-any.whl (55 kB)\n",
      "Requirement already satisfied: colorama in c:\\users\\winner brixman\\appdata\\local\\programs\\python\\python310\\lib\\site-packages (from click<9,>=7.0->streamlit) (0.4.6)\n",
      "Collecting gitdb<5,>=4.0.1\n",
      "  Using cached gitdb-4.0.10-py3-none-any.whl (62 kB)\n",
      "Requirement already satisfied: zipp>=0.5 in c:\\users\\winner brixman\\appdata\\local\\programs\\python\\python310\\lib\\site-packages (from importlib-metadata<7,>=1.4->streamlit) (3.15.0)\n",
      "Requirement already satisfied: pytz>=2020.1 in c:\\users\\winner brixman\\appdata\\local\\programs\\python\\python310\\lib\\site-packages (from pandas<3,>=0.25->streamlit) (2022.7.1)\n",
      "Requirement already satisfied: six>=1.5 in c:\\users\\winner brixman\\appdata\\local\\programs\\python\\python310\\lib\\site-packages (from python-dateutil<3,>=2->streamlit) (1.16.0)\n",
      "Requirement already satisfied: idna<4,>=2.5 in c:\\users\\winner brixman\\appdata\\local\\programs\\python\\python310\\lib\\site-packages (from requests<3,>=2.4->streamlit) (3.4)\n",
      "Requirement already satisfied: urllib3<1.27,>=1.21.1 in c:\\users\\winner brixman\\appdata\\local\\programs\\python\\python310\\lib\\site-packages (from requests<3,>=2.4->streamlit) (1.26.14)\n",
      "Requirement already satisfied: certifi>=2017.4.17 in c:\\users\\winner brixman\\appdata\\local\\programs\\python\\python310\\lib\\site-packages (from requests<3,>=2.4->streamlit) (2022.12.7)\n",
      "Requirement already satisfied: charset-normalizer<4,>=2 in c:\\users\\winner brixman\\appdata\\local\\programs\\python\\python310\\lib\\site-packages (from requests<3,>=2.4->streamlit) (3.0.1)\n",
      "Requirement already satisfied: pygments<3.0.0,>=2.13.0 in c:\\users\\winner brixman\\appdata\\local\\programs\\python\\python310\\lib\\site-packages (from rich<14,>=10.11.0->streamlit) (2.14.0)\n",
      "Collecting markdown-it-py>=2.2.0\n",
      "  Using cached markdown_it_py-3.0.0-py3-none-any.whl (87 kB)\n",
      "Collecting pytz-deprecation-shim\n",
      "  Using cached pytz_deprecation_shim-0.1.0.post0-py2.py3-none-any.whl (15 kB)\n",
      "Collecting tzdata\n",
      "  Using cached tzdata-2023.3-py2.py3-none-any.whl (341 kB)\n",
      "Requirement already satisfied: decorator>=3.4.0 in c:\\users\\winner brixman\\appdata\\local\\programs\\python\\python310\\lib\\site-packages (from validators<1,>=0.2->streamlit) (5.1.1)\n",
      "Collecting smmap<6,>=3.0.1\n",
      "  Using cached smmap-5.0.0-py3-none-any.whl (24 kB)\n",
      "Requirement already satisfied: MarkupSafe>=2.0 in c:\\users\\winner brixman\\appdata\\local\\programs\\python\\python310\\lib\\site-packages (from jinja2->altair<6,>=4.0->streamlit) (2.1.3)\n",
      "Requirement already satisfied: attrs>=17.4.0 in c:\\users\\winner brixman\\appdata\\local\\programs\\python\\python310\\lib\\site-packages (from jsonschema>=3.0->altair<6,>=4.0->streamlit) (22.2.0)\n",
      "Requirement already satisfied: pyrsistent!=0.17.0,!=0.17.1,!=0.17.2,>=0.14.0 in c:\\users\\winner brixman\\appdata\\local\\programs\\python\\python310\\lib\\site-packages (from jsonschema>=3.0->altair<6,>=4.0->streamlit) (0.19.3)\n",
      "Collecting mdurl~=0.1\n",
      "  Using cached mdurl-0.1.2-py3-none-any.whl (10.0 kB)\n",
      "Installing collected packages: watchdog, validators, tzdata, toolz, toml, smmap, pympler, pyarrow, mdurl, blinker, pytz-deprecation-shim, pydeck, markdown-it-py, gitdb, tzlocal, rich, gitpython, altair, streamlit\n",
      "Successfully installed altair-5.0.1 blinker-1.6.2 gitdb-4.0.10 gitpython-3.1.32 markdown-it-py-3.0.0 mdurl-0.1.2 pyarrow-12.0.1 pydeck-0.8.1b0 pympler-1.0.1 pytz-deprecation-shim-0.1.0.post0 rich-13.4.2 smmap-5.0.0 streamlit-1.24.1 toml-0.10.2 toolz-0.12.0 tzdata-2023.3 tzlocal-4.3.1 validators-0.20.0 watchdog-3.0.0\n"
     ]
    },
    {
     "name": "stderr",
     "output_type": "stream",
     "text": [
      "WARNING: Ignoring invalid distribution -otebook (c:\\users\\winner brixman\\appdata\\local\\programs\\python\\python310\\lib\\site-packages)\n",
      "WARNING: Ignoring invalid distribution -otebook (c:\\users\\winner brixman\\appdata\\local\\programs\\python\\python310\\lib\\site-packages)\n",
      "WARNING: Ignoring invalid distribution -otebook (c:\\users\\winner brixman\\appdata\\local\\programs\\python\\python310\\lib\\site-packages)\n",
      "WARNING: Ignoring invalid distribution -otebook (c:\\users\\winner brixman\\appdata\\local\\programs\\python\\python310\\lib\\site-packages)\n",
      "WARNING: Ignoring invalid distribution -otebook (c:\\users\\winner brixman\\appdata\\local\\programs\\python\\python310\\lib\\site-packages)\n",
      "WARNING: Ignoring invalid distribution -otebook (c:\\users\\winner brixman\\appdata\\local\\programs\\python\\python310\\lib\\site-packages)\n",
      "WARNING: Ignoring invalid distribution -otebook (c:\\users\\winner brixman\\appdata\\local\\programs\\python\\python310\\lib\\site-packages)\n",
      "WARNING: Ignoring invalid distribution -otebook (c:\\users\\winner brixman\\appdata\\local\\programs\\python\\python310\\lib\\site-packages)\n",
      "WARNING: Ignoring invalid distribution -otebook (c:\\users\\winner brixman\\appdata\\local\\programs\\python\\python310\\lib\\site-packages)\n",
      "WARNING: Ignoring invalid distribution -otebook (c:\\users\\winner brixman\\appdata\\local\\programs\\python\\python310\\lib\\site-packages)\n",
      "WARNING: Ignoring invalid distribution -otebook (c:\\users\\winner brixman\\appdata\\local\\programs\\python\\python310\\lib\\site-packages)\n",
      "WARNING: Ignoring invalid distribution -otebook (c:\\users\\winner brixman\\appdata\\local\\programs\\python\\python310\\lib\\site-packages)\n",
      "WARNING: Ignoring invalid distribution -otebook (c:\\users\\winner brixman\\appdata\\local\\programs\\python\\python310\\lib\\site-packages)\n",
      "WARNING: Ignoring invalid distribution -otebook (c:\\users\\winner brixman\\appdata\\local\\programs\\python\\python310\\lib\\site-packages)\n",
      "WARNING: Ignoring invalid distribution -otebook (c:\\users\\winner brixman\\appdata\\local\\programs\\python\\python310\\lib\\site-packages)\n",
      "WARNING: Ignoring invalid distribution -otebook (c:\\users\\winner brixman\\appdata\\local\\programs\\python\\python310\\lib\\site-packages)\n",
      "WARNING: Ignoring invalid distribution -otebook (c:\\users\\winner brixman\\appdata\\local\\programs\\python\\python310\\lib\\site-packages)\n",
      "WARNING: Ignoring invalid distribution -otebook (c:\\users\\winner brixman\\appdata\\local\\programs\\python\\python310\\lib\\site-packages)\n",
      "WARNING: Ignoring invalid distribution -otebook (c:\\users\\winner brixman\\appdata\\local\\programs\\python\\python310\\lib\\site-packages)\n",
      "WARNING: Ignoring invalid distribution -otebook (c:\\users\\winner brixman\\appdata\\local\\programs\\python\\python310\\lib\\site-packages)\n",
      "WARNING: Ignoring invalid distribution -otebook (c:\\users\\winner brixman\\appdata\\local\\programs\\python\\python310\\lib\\site-packages)\n",
      "WARNING: Ignoring invalid distribution -otebook (c:\\users\\winner brixman\\appdata\\local\\programs\\python\\python310\\lib\\site-packages)\n",
      "WARNING: Ignoring invalid distribution -otebook (c:\\users\\winner brixman\\appdata\\local\\programs\\python\\python310\\lib\\site-packages)\n",
      "WARNING: Ignoring invalid distribution -otebook (c:\\users\\winner brixman\\appdata\\local\\programs\\python\\python310\\lib\\site-packages)\n",
      "WARNING: Ignoring invalid distribution -otebook (c:\\users\\winner brixman\\appdata\\local\\programs\\python\\python310\\lib\\site-packages)\n",
      "\n",
      "[notice] A new release of pip available: 22.3.1 -> 23.1.2\n",
      "[notice] To update, run: python.exe -m pip install --upgrade pip\n"
     ]
    }
   ],
   "source": [
    "!pip install streamlit"
   ]
  },
  {
   "cell_type": "code",
   "execution_count": 3,
   "id": "b62c8fad-3b0d-4b10-8a4b-ec3e31de63f8",
   "metadata": {
    "tags": []
   },
   "outputs": [
    {
     "ename": "NameError",
     "evalue": "name 'streamlit_webapp' is not defined",
     "output_type": "error",
     "traceback": [
      "\u001b[1;31m---------------------------------------------------------------------------\u001b[0m",
      "\u001b[1;31mNameError\u001b[0m                                 Traceback (most recent call last)",
      "Cell \u001b[1;32mIn[3], line 1\u001b[0m\n\u001b[1;32m----> 1\u001b[0m \u001b[43mstreamlit_webapp\u001b[49m\u001b[38;5;241m.\u001b[39mpy\n",
      "\u001b[1;31mNameError\u001b[0m: name 'streamlit_webapp' is not defined"
     ]
    }
   ],
   "source": [
    "streamlit_webapp.py"
   ]
  },
  {
   "cell_type": "code",
   "execution_count": null,
   "id": "1d108fb7-fb8f-4960-aacb-8d436c9400f0",
   "metadata": {},
   "outputs": [],
   "source": []
  }
 ],
 "metadata": {
  "kernelspec": {
   "display_name": "Python 3 (ipykernel)",
   "language": "python",
   "name": "python3"
  },
  "language_info": {
   "codemirror_mode": {
    "name": "ipython",
    "version": 3
   },
   "file_extension": ".py",
   "mimetype": "text/x-python",
   "name": "python",
   "nbconvert_exporter": "python",
   "pygments_lexer": "ipython3",
   "version": "3.10.4"
  }
 },
 "nbformat": 4,
 "nbformat_minor": 5
}
