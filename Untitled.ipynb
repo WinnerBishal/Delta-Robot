{
 "cells": [
  {
   "cell_type": "code",
   "execution_count": 2,
   "id": "589d8040",
   "metadata": {},
   "outputs": [],
   "source": [
    "import numpy as np\n",
    "from sympy import Symbol\n",
    "import roboticstoolbox as rtb"
   ]
  },
  {
   "cell_type": "code",
   "execution_count": 14,
   "id": "9487bccf",
   "metadata": {},
   "outputs": [],
   "source": [
    "WP_X = Symbol('WP_X')\n",
    "WP_Y = Symbol('WP_Y')\n",
    "WP_Z = Symbol('WP_Z')\n",
    "\n",
    "WP = [WP_X, WP_Y, WP_Z]\n",
    "pos_rot = rtb.ET.Rz(np.radians(120)).A()[:3, :3]\n",
    "neg_rot = rtb.ET.Rz(np.radians(-120)).A()[:3, :3]\n"
   ]
  },
  {
   "cell_type": "code",
   "execution_count": 17,
   "id": "34295ce9",
   "metadata": {},
   "outputs": [
    {
     "data": {
      "text/plain": [
       "array([-0.5*WP_X - 0.866025403784439*WP_Y,\n",
       "       0.866025403784439*WP_X - 0.5*WP_Y, 1.0*WP_Z], dtype=object)"
      ]
     },
     "execution_count": 17,
     "metadata": {},
     "output_type": "execute_result"
    }
   ],
   "source": [
    "np.matmul(pos_rot, WP)"
   ]
  },
  {
   "cell_type": "code",
   "execution_count": 18,
   "id": "18cdcf04",
   "metadata": {},
   "outputs": [
    {
     "data": {
      "text/plain": [
       "array([[-0.5      ,  0.8660254,  0.       ],\n",
       "       [-0.8660254, -0.5      ,  0.       ],\n",
       "       [ 0.       ,  0.       ,  1.       ]])"
      ]
     },
     "execution_count": 18,
     "metadata": {},
     "output_type": "execute_result"
    }
   ],
   "source": [
    "neg_rot"
   ]
  },
  {
   "cell_type": "code",
   "execution_count": null,
   "id": "4e7f3a23",
   "metadata": {},
   "outputs": [],
   "source": []
  }
 ],
 "metadata": {
  "kernelspec": {
   "display_name": "Python 3 (ipykernel)",
   "language": "python",
   "name": "python3"
  },
  "language_info": {
   "codemirror_mode": {
    "name": "ipython",
    "version": 3
   },
   "file_extension": ".py",
   "mimetype": "text/x-python",
   "name": "python",
   "nbconvert_exporter": "python",
   "pygments_lexer": "ipython3",
   "version": "3.10.4"
  }
 },
 "nbformat": 4,
 "nbformat_minor": 5
}
